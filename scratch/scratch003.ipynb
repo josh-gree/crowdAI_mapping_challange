{
 "cells": [
  {
   "cell_type": "code",
   "execution_count": 1,
   "metadata": {},
   "outputs": [],
   "source": [
    "import json\n",
    "\n",
    "import numpy as np\n",
    "import deepdish as dd\n",
    "import cv2 as cv\n",
    "import pandas as pd\n",
    "import matplotlib.pyplot as plt\n",
    "\n",
    "from PIL import Image, ImageDraw\n",
    "from typing import List\n",
    "from pathlib import Path, PosixPath\n",
    "\n",
    "%matplotlib inline\n",
    "\n",
    "ListOfLists = List[List]\n",
    "\n",
    "def polygons_to_mask_array(polygons : ListOfLists, width : int = 300, height : int = 300) -> np.ndarray:\n",
    "    '''\n",
    "    This function takes a list of lists that contains polygon masks for each building. Example;\n",
    "    \n",
    "    [[x11,y11,x12,y12,...],...,[xn1,yn1,xn2,yn2,...]]\n",
    "    \n",
    "    The return of this function is an array of size width x height which contains a binary mask\n",
    "    as defined by the list of polygons. This will be the target for our network!\n",
    "    '''\n",
    "    \n",
    "    img = Image.new('L', (width, height), 0)    \n",
    "    for polygon in polygons:\n",
    "        ImageDraw.Draw(img).polygon(polygon, outline=1, fill=1)\n",
    "    mask = np.array(img)\n",
    "    \n",
    "    return mask\n",
    "\n",
    "def mask_array_to_polygons(mask_array : np.ndarray) -> ListOfLists:\n",
    "    '''\n",
    "    This function does the inverse of polygons_to_mask_array. Given a mask array it\n",
    "    will return a list of lists that represents the polygon of each distinguishable \n",
    "    building int the mask. It is able to distinguis building with an x/y seperation of at least \n",
    "    2 pixels anything closer will be returned as a merged polygon\n",
    "    '''\n",
    "    \n",
    "    contours = cv.findContours(y,cv.RETR_TREE, cv.CHAIN_APPROX_SIMPLE)\n",
    "    polygons = contours[1]\n",
    "    polygons = [list(polygon.reshape(polygon.shape[0],2).flatten()) for polygon in polygons]\n",
    "    return polygons"
   ]
  },
  {
   "cell_type": "code",
   "execution_count": 2,
   "metadata": {},
   "outputs": [],
   "source": [
    "# lets get some locations down\n",
    "data_dir = Path('../data')\n",
    "test_dir = data_dir / Path('test')\n",
    "train_dir = data_dir / Path('train')\n",
    "val_dir = data_dir / Path('val')\n",
    "\n",
    "train_an_path = list(train_dir.glob('*.json'))[1]\n",
    "val_an_path = list(val_dir.glob('*.json'))[1]\n",
    "\n",
    "# restricting number of ims to load for testing purposes\n",
    "train_ims_fnames = list((train_dir / Path('images')).glob('*.jpg'))\n",
    "test_ims_fnames = list(test_dir.glob('*.jpg'))\n",
    "val_ims_fnames = list((val_dir / Path('images')).glob('*.jpg'))"
   ]
  },
  {
   "cell_type": "code",
   "execution_count": 3,
   "metadata": {},
   "outputs": [],
   "source": [
    "# This take like for fucking ever!! Perhaps combine this with creation of hdf5 file? Lazy evaluation...\n",
    "train_ims = ((int(x.name.split('.')[0]),cv.imread(str(x))) for x in train_ims_fnames)\n",
    "val_ims = ((int(x.name.split('.')[0]),cv.imread(str(x))) for x in val_ims_fnames)\n",
    "test_ims = ((int(x.name.split('.')[0]),cv.imread(str(x))) for x in test_ims_fnames)"
   ]
  },
  {
   "cell_type": "code",
   "execution_count": 4,
   "metadata": {},
   "outputs": [],
   "source": [
    "# for each image annotation produce mask array\n",
    "\n",
    "def an_json_to_masks(an_path : PosixPath) -> pd.DataFrame:\n",
    "\n",
    "    grouped = pd.DataFrame(json.loads(an_path.read_text())['annotations']).groupby('image_id')\n",
    "    grouped = grouped.agg({'segmentation' : lambda x : [z[0] for z in x]})\n",
    "    grouped_idx = grouped.index\n",
    "    grouped_vals = [list(x)[0] for x in grouped.values]\n",
    "\n",
    "    grouped = list(zip(grouped_idx,grouped_vals))\n",
    "    \n",
    "    return [(id_,polygons_to_mask_array(ann)) for id_,ann in grouped]\n",
    "\n",
    "train_masks = sorted(an_json_to_masks(train_an_path), key = lambda x : x[0])\n",
    "val_masks = sorted(an_json_to_masks(val_an_path), key = lambda x : x[0])"
   ]
  },
  {
   "cell_type": "code",
   "execution_count": null,
   "metadata": {},
   "outputs": [],
   "source": [
    "N_train = len(train_masks)\n",
    "N_val = len(val_masks)\n",
    "N_test = len(test_ims_fnames)\n",
    "\n",
    "# this will now take fucking forever\n",
    "d_train = {\n",
    "    'sample_{}'.format(i): {\n",
    "        'im':im[1],\n",
    "        'mask':mask[1],\n",
    "    } for i,im,mask in zip(range(N_train),train_ims,train_masks)\n",
    "}\n",
    "\n",
    "d_val = {\n",
    "    'sample_{}'.format(i): {\n",
    "        'im':im[1],\n",
    "        'mask':mask[1],\n",
    "    } for i,im,mask in zip(range(N_val),val_ims,val_masks)\n",
    "}\n",
    "\n",
    "d_test ={\n",
    "    'sample_{}'.format(i) : {\n",
    "        'im':im[1]\n",
    "    } for i,im in zip(range(N_test),)\n",
    "}\n",
    "\n",
    "# this to probably\n",
    "dd.io.save('train.h5',d_train) \n",
    "dd.io.save('val.h5',d_val)\n",
    "dd.io.save('test.h5',d_test)"
   ]
  },
  {
   "cell_type": "code",
   "execution_count": null,
   "metadata": {},
   "outputs": [],
   "source": [
    "plt.imshow(dd.io.load('train.h5','/sample_101/im'))\n",
    "plt.imshow(dd.io.load('train.h5','/sample_101/mask'),alpha=0.5)"
   ]
  },
  {
   "cell_type": "code",
   "execution_count": 2,
   "metadata": {},
   "outputs": [
    {
     "name": "stdout",
     "output_type": "stream",
     "text": [
      "x = [[0, 0, 0, 40, 40, 40, 40, 0], [0, 42, 0, 82, 40, 82, 40, 42]], z = [[0, 42, 0, 82, 40, 82, 40, 42], [0, 0, 0, 40, 40, 40, 40, 0]]\n"
     ]
    },
    {
     "data": {
      "image/png": "[encoded data removed]",
      "text/plain": [
       "<Figure size 432x288 with 2 Axes>"
      ]
     },
     "metadata": {},
     "output_type": "display_data"
    }
   ],
   "source": [
    "x = [[0,0,0,40,40,40,40,0], [0,42,0,82,40,82,40,42]]\n",
    "y = polygons_to_mask_array(x)\n",
    "z = mask_array_to_polygons(y)\n",
    "w = polygons_to_mask_array(z)\n",
    "\n",
    "fig, ax = plt.subplots(nrows=1,ncols=2)\n",
    "ax[0].imshow(y)\n",
    "ax[1].imshow(w)\n",
    "\n",
    "print(f'x = {x}, z = {z}')"
   ]
  },
  {
   "cell_type": "code",
   "execution_count": 3,
   "metadata": {},
   "outputs": [
    {
     "name": "stdout",
     "output_type": "stream",
     "text": [
      "x = [[0, 0, 0, 40, 40, 40, 40, 0], [0, 41, 0, 81, 40, 81, 40, 41]], z = [[0, 0, 0, 81, 40, 81, 40, 0]]\n"
     ]
    },
    {
     "data": {
      "image/png": "[encoded data removed]",
      "text/plain": [
       "<Figure size 432x288 with 2 Axes>"
      ]
     },
     "metadata": {},
     "output_type": "display_data"
    }
   ],
   "source": [
    "x = [[0,0,0,40,40,40,40,0], [0,41,0,81,40,81,40,41]]\n",
    "y = polygons_to_mask_array(x)\n",
    "z = mask_array_to_polygons(y)\n",
    "w = polygons_to_mask_array(z)\n",
    "\n",
    "fig, ax = plt.subplots(nrows=1,ncols=2)\n",
    "ax[0].imshow(y)\n",
    "ax[1].imshow(w)\n",
    "\n",
    "print(f'x = {x}, z = {z}')"
   ]
  },
  {
   "cell_type": "code",
   "execution_count": 4,
   "metadata": {},
   "outputs": [
    {
     "name": "stdout",
     "output_type": "stream",
     "text": [
      "x = [[0, 0, 0, 40, 40, 40, 40, 0], [42, 0, 42, 40, 82, 40, 82, 0]], z = [[42, 0, 42, 40, 82, 40, 82, 0], [0, 0, 0, 40, 40, 40, 40, 0]]\n"
     ]
    },
    {
     "data": {
      "image/png": "[encoded data removed]",
      "text/plain": [
       "<Figure size 432x288 with 2 Axes>"
      ]
     },
     "metadata": {},
     "output_type": "display_data"
    }
   ],
   "source": [
    "x = [[0,0,0,40,40,40,40,0], [42,0,42,40,82,40,82,0]]\n",
    "y = polygons_to_mask_array(x)\n",
    "z = mask_array_to_polygons(y)\n",
    "w = polygons_to_mask_array(z)\n",
    "\n",
    "fig, ax = plt.subplots(nrows=1,ncols=2)\n",
    "ax[0].imshow(y)\n",
    "ax[1].imshow(w)\n",
    "\n",
    "print(f'x = {x}, z = {z}')"
   ]
  },
  {
   "cell_type": "code",
   "execution_count": 5,
   "metadata": {},
   "outputs": [
    {
     "name": "stdout",
     "output_type": "stream",
     "text": [
      "x = [[0, 0, 0, 40, 40, 40, 40, 0], [41, 0, 41, 40, 81, 40, 81, 0]], z = [[0, 0, 0, 40, 81, 40, 81, 0]]\n"
     ]
    },
    {
     "data": {
      "image/png": "[encoded data removed]",
      "text/plain": [
       "<Figure size 432x288 with 2 Axes>"
      ]
     },
     "metadata": {},
     "output_type": "display_data"
    }
   ],
   "source": [
    "x = [[0,0,0,40,40,40,40,0], [41,0,41,40,81,40,81,0]]\n",
    "y = polygons_to_mask_array(x)\n",
    "z = mask_array_to_polygons(y)\n",
    "w = polygons_to_mask_array(z)\n",
    "\n",
    "fig, ax = plt.subplots(nrows=1,ncols=2)\n",
    "ax[0].imshow(y)\n",
    "ax[1].imshow(w)\n",
    "\n",
    "print(f'x = {x}, z = {z}')"
   ]
  },
  {
   "cell_type": "markdown",
   "metadata": {},
   "source": [
    "- As long as polygons are 2 pixels away from each other then opencv can distiguish between them!"
   ]
  },
  {
   "cell_type": "code",
   "execution_count": null,
   "metadata": {},
   "outputs": [],
   "source": [
    "# want to make 3 hdf files train, val, test\n",
    "# Each of train and val will have the following;\n",
    "#\n",
    "# - image_id\n",
    "# - original_path_to_image\n",
    "# - image 300x300x3\n",
    "# - mask 300x300x1\n",
    "# - json blob for all annotations\n",
    "# \n",
    "# train wil just have;\n",
    "#\n",
    "# - image_id\n",
    "# - original_path_to_image\n",
    "# - image 300x300x3\n",
    "\n"
   ]
  }
 ],
 "metadata": {
  "kernelspec": {
   "display_name": "Python 3",
   "language": "python",
   "name": "python3"
  },
  "language_info": {
   "codemirror_mode": {
    "name": "ipython",
    "version": 3
   },
   "file_extension": ".py",
   "mimetype": "text/x-python",
   "name": "python",
   "nbconvert_exporter": "python",
   "pygments_lexer": "ipython3",
   "version": "3.6.4"
  }
 },
 "nbformat": 4,
 "nbformat_minor": 2
}
